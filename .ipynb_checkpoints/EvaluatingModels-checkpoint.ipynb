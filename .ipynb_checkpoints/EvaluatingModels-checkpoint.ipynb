{
 "cells": [
  {
   "cell_type": "markdown",
   "metadata": {},
   "source": [
    "# load datasets"
   ]
  },
  {
   "cell_type": "code",
   "execution_count": 88,
   "metadata": {},
   "outputs": [],
   "source": [
    "import numpy as np\n",
    "import pandas as pd\n",
    "import os\n",
    "\n",
    "# load boston house prices dataset\n",
    "from sklearn.datasets import load_boston\n",
    "boston_dataset = load_boston()\n",
    "df_boston_features = pd.DataFrame(data = boston_dataset.data, columns=boston_dataset.feature_names)\n",
    "df_boston_target = pd.DataFrame(data = boston_dataset.target, columns=['price'])\n",
    "\n",
    "# load Pima Indians Diabetes dataset\n",
    "diabetes_dataset_file = './datasets/diabetes_dataset/diabetes.csv'\n",
    "df_diabetes = pd.read_csv(diabetes_dataset_file)\n",
    "df_diabetes_target = df_diabetes.loc[:,['Outcome']]\n",
    "df_diabetes_features = df_diabetes.drop(['Outcome'], axis=1)\n",
    "\n",
    "# load Iris flowers dataset\n",
    "from sklearn.datasets import load_iris\n",
    "iris_dataset = load_iris()\n",
    "df_iris_features = pd.DataFrame(data = iris_dataset.data, columns=iris_dataset.feature_names)\n",
    "df_iris_target = pd.DataFrame(data = iris_dataset.target, columns=['class'])\n",
    "\n",
    "# create a synthetic regression dataset of X, Y values.\n",
    "from sklearn.datasets import make_regression\n",
    "SyntheticX, SyntheticY = make_regression(n_samples=50, n_features=1, noise=10.0, random_state=17)\n",
    "\n",
    "# create a synthetic binary classification dataset with 2 features.\n",
    "from sklearn.datasets import make_classification\n",
    "Synthetic_BinaryClassX, Synthetic_BinaryClassY = make_classification(n_samples=50, n_features=2, n_redundant=0, n_classes=2)"
   ]
  },
  {
   "cell_type": "code",
   "execution_count": 89,
   "metadata": {},
   "outputs": [
    {
     "name": "stderr",
     "output_type": "stream",
     "text": [
      "/Users/abhishekmishra/anaconda3/envs/AWS_ML_Book/lib/python3.6/site-packages/sklearn/preprocessing/data.py:334: DataConversionWarning: Data with input dtype int64, float64 were all converted to float64 by MinMaxScaler.\n",
      "  return self.partial_fit(X, y)\n"
     ]
    }
   ],
   "source": [
    "# normalize attribute values\n",
    "from sklearn.preprocessing import MinMaxScaler\n",
    "\n",
    "diabetes_scaler = MinMaxScaler()\n",
    "diabetes_scaler.fit(df_diabetes_features)\n",
    "nd_diabetes_features = diabetes_scaler.transform(df_diabetes_features)\n",
    "df_diabetes_features_normalized = pd.DataFrame(data=nd_diabetes_features, columns=df_diabetes_features.columns)\n",
    "\n",
    "iris_scaler = MinMaxScaler()\n",
    "iris_scaler.fit(df_iris_features)\n",
    "nd_iris_features = iris_scaler.transform(df_iris_features)\n",
    "df_iris_features_normalized = pd.DataFrame(data=nd_iris_features, columns=df_iris_features.columns)\n",
    "\n",
    "x_scaler = MinMaxScaler()\n",
    "x_scaler.fit(SyntheticX.reshape(-1,1))\n",
    "SyntheticX = x_scaler.transform(SyntheticX.reshape(-1,1))\n",
    "\n",
    "y_scaler = MinMaxScaler()\n",
    "y_scaler.fit(SyntheticY.reshape(-1,1))\n",
    "SyntheticY = y_scaler.transform(SyntheticY.reshape(-1,1))"
   ]
  },
  {
   "cell_type": "code",
   "execution_count": 90,
   "metadata": {},
   "outputs": [
    {
     "name": "stdout",
     "output_type": "stream",
     "text": [
      ".. _boston_dataset:\n",
      "\n",
      "Boston house prices dataset\n",
      "---------------------------\n",
      "\n",
      "**Data Set Characteristics:**  \n",
      "\n",
      "    :Number of Instances: 506 \n",
      "\n",
      "    :Number of Attributes: 13 numeric/categorical predictive. Median Value (attribute 14) is usually the target.\n",
      "\n",
      "    :Attribute Information (in order):\n",
      "        - CRIM     per capita crime rate by town\n",
      "        - ZN       proportion of residential land zoned for lots over 25,000 sq.ft.\n",
      "        - INDUS    proportion of non-retail business acres per town\n",
      "        - CHAS     Charles River dummy variable (= 1 if tract bounds river; 0 otherwise)\n",
      "        - NOX      nitric oxides concentration (parts per 10 million)\n",
      "        - RM       average number of rooms per dwelling\n",
      "        - AGE      proportion of owner-occupied units built prior to 1940\n",
      "        - DIS      weighted distances to five Boston employment centres\n",
      "        - RAD      index of accessibility to radial highways\n",
      "        - TAX      full-value property-tax rate per $10,000\n",
      "        - PTRATIO  pupil-teacher ratio by town\n",
      "        - B        1000(Bk - 0.63)^2 where Bk is the proportion of blacks by town\n",
      "        - LSTAT    % lower status of the population\n",
      "        - MEDV     Median value of owner-occupied homes in $1000's\n",
      "\n",
      "    :Missing Attribute Values: None\n",
      "\n",
      "    :Creator: Harrison, D. and Rubinfeld, D.L.\n",
      "\n",
      "This is a copy of UCI ML housing dataset.\n",
      "https://archive.ics.uci.edu/ml/machine-learning-databases/housing/\n",
      "\n",
      "\n",
      "This dataset was taken from the StatLib library which is maintained at Carnegie Mellon University.\n",
      "\n",
      "The Boston house-price data of Harrison, D. and Rubinfeld, D.L. 'Hedonic\n",
      "prices and the demand for clean air', J. Environ. Economics & Management,\n",
      "vol.5, 81-102, 1978.   Used in Belsley, Kuh & Welsch, 'Regression diagnostics\n",
      "...', Wiley, 1980.   N.B. Various transformations are used in the table on\n",
      "pages 244-261 of the latter.\n",
      "\n",
      "The Boston house-price data has been used in many machine learning papers that address regression\n",
      "problems.   \n",
      "     \n",
      ".. topic:: References\n",
      "\n",
      "   - Belsley, Kuh & Welsch, 'Regression diagnostics: Identifying Influential Data and Sources of Collinearity', Wiley, 1980. 244-261.\n",
      "   - Quinlan,R. (1993). Combining Instance-Based and Model-Based Learning. In Proceedings on the Tenth International Conference of Machine Learning, 236-243, University of Massachusetts, Amherst. Morgan Kaufmann.\n",
      "\n"
     ]
    }
   ],
   "source": [
    "# print a description of the boston housing dataset.\n",
    "print(boston_dataset.DESCR)"
   ]
  },
  {
   "cell_type": "markdown",
   "metadata": {},
   "source": [
    "# creating a 75/25 training and validation set"
   ]
  },
  {
   "cell_type": "code",
   "execution_count": 91,
   "metadata": {},
   "outputs": [],
   "source": [
    "\n",
    "# create a training dataset and a test dataset using a 75/25 split.\n",
    "from sklearn.model_selection import train_test_split\n",
    "\n",
    "diabetes_split = train_test_split(df_diabetes_features_normalized, df_diabetes_target, \n",
    "                              test_size=0.25, random_state=17)\n",
    "df_diabetes_features_train = diabetes_split[0]\n",
    "df_diabetes_features_test = diabetes_split[1]\n",
    "df_diabetes_target_train = diabetes_split[2]\n",
    "df_diabetes_target_test = diabetes_split[3]\n",
    "\n",
    "\n",
    "boston_split = train_test_split(df_boston_features, df_boston_target, \n",
    "                              test_size=0.25, random_state=17)\n",
    "df_boston_features_train = boston_split[0]\n",
    "df_boston_features_test = boston_split[1]\n",
    "df_boston_target_train = boston_split[2]\n",
    "df_boston_target_test = boston_split[3]\n",
    "\n",
    "iris_split = train_test_split(df_iris_features_normalized, df_iris_target, \n",
    "                              test_size=0.25, random_state=17)\n",
    "df_iris_features_train = iris_split[0]\n",
    "df_iris_features_test = iris_split[1]\n",
    "df_iris_target_train = iris_split[2]\n",
    "df_iris_target_test = iris_split[3]\n"
   ]
  },
  {
   "cell_type": "markdown",
   "metadata": {},
   "source": [
    "# Evaluating Regression Models"
   ]
  },
  {
   "cell_type": "code",
   "execution_count": 92,
   "metadata": {},
   "outputs": [],
   "source": [
    "# train a linear model on the Boston house prices dataset.\n",
    "from sklearn.linear_model import LinearRegression\n",
    "linear_reg_model = LinearRegression(fit_intercept=True)\n",
    "linear_reg_model.fit(df_boston_features_train, df_boston_target_train)\n",
    "\n",
    "# create a decision tree based regressor on the Boston house prices dataset.\n",
    "from sklearn.tree import DecisionTreeRegressor\n",
    "dtree_reg_model = DecisionTreeRegressor(max_depth=10)\n",
    "dtree_reg_model.fit(df_boston_features_train, df_boston_target_train.values.ravel())\n",
    "\n",
    "# use the  models to create predictions on the test set\n",
    "linear_reg_predictions = linear_reg_model.predict(df_boston_features_test)\n",
    "dtree_reg_predictions = dtree_reg_model.predict(df_boston_features_test)"
   ]
  },
  {
   "cell_type": "code",
   "execution_count": 93,
   "metadata": {},
   "outputs": [
    {
     "data": {
      "text/plain": [
       "<matplotlib.legend.Legend at 0x1a2127def0>"
      ]
     },
     "execution_count": 93,
     "metadata": {},
     "output_type": "execute_result"
    },
    {
     "data": {
      "image/png": "[encoded data removed]",
      "text/plain": [
       "<Figure size 1296x648 with 2 Axes>"
      ]
     },
     "metadata": {
      "needs_background": "light"
     },
     "output_type": "display_data"
    }
   ],
   "source": [
    "# create a scatter plot of predicted vs actual values\n",
    "\n",
    "%matplotlib inline\n",
    "import matplotlib.pyplot as plt\n",
    "\n",
    "fig, axes = plt.subplots(1, 2, figsize=(18,9))\n",
    "axes[0].scatter(df_boston_target_test, linear_reg_predictions)\n",
    "axes[0].set_xlabel(\"Expected Prices\")\n",
    "axes[0].set_ylabel(\"Predicted prices\")\n",
    "axes[0].set_title(\"Linear Regression Model\")\n",
    "axes[0].axhline(y=0, color='k')\n",
    "axes[0].axvline(x=0, color='k')\n",
    "\n",
    "axes[1].scatter(df_boston_target_test, dtree_reg_predictions)\n",
    "axes[1].set_xlabel(\"Expected Prices\")\n",
    "axes[1].set_ylabel(\"Predicted prices\")\n",
    "axes[1].set_title(\"Decision Tree Model\")\n",
    "axes[1].axhline(y=0, color='k')\n",
    "axes[1].axvline(x=0, color='k')\n",
    "\n",
    "# plot the ideal prediction line\n",
    "IdealPrices = np.linspace(0.0, df_boston_target_test.values.max(), 50)\n",
    "IdealPredictions = IdealPrices\n",
    "axes[0].plot(IdealPrices, IdealPredictions, color='#ff0000', label='ideal prediction line')\n",
    "axes[1].plot(IdealPrices, IdealPredictions, color='#ff0000', label='ideal prediction line')\n",
    "\n",
    "axes[0].legend()\n",
    "axes[1].legend()"
   ]
  },
  {
   "cell_type": "code",
   "execution_count": 94,
   "metadata": {},
   "outputs": [
    {
     "name": "stdout",
     "output_type": "stream",
     "text": [
      "4.256139223131222 3.6916323894267196\n"
     ]
    }
   ],
   "source": [
    "# compute MSE , RMSE, using Scikit-Learn\n",
    "\n",
    "from sklearn.metrics import mean_squared_error\n",
    "mse_linear_reg_model = mean_squared_error(df_boston_target_test, linear_reg_predictions)\n",
    "mse_dtree_reg_model = mean_squared_error(df_boston_target_test, dtree_reg_predictions)\n",
    "\n",
    "from math import sqrt\n",
    "rmse_linear_reg_model = sqrt(mse_linear_reg_model)\n",
    "rmse_dtree_reg_model = sqrt(mse_dtree_reg_model)\n",
    "\n",
    "print (rmse_linear_reg_model, rmse_dtree_reg_model)"
   ]
  },
  {
   "cell_type": "code",
   "execution_count": 95,
   "metadata": {},
   "outputs": [
    {
     "name": "stdout",
     "output_type": "stream",
     "text": [
      "0.7663974484228384 0.8242550615242343\n"
     ]
    }
   ],
   "source": [
    "# compute coefficient of determination (r2 score)\n",
    "\n",
    "from sklearn.metrics import r2_score\n",
    "r2_linear_reg_model = r2_score(df_boston_target_test, linear_reg_predictions)\n",
    "r2_dtree_reg_model = r2_score(df_boston_target_test, dtree_reg_predictions)\n",
    "\n",
    "print (r2_linear_reg_model, r2_dtree_reg_model)"
   ]
  },
  {
   "cell_type": "markdown",
   "metadata": {},
   "source": [
    "# Evaluating Binary Classification Models"
   ]
  },
  {
   "cell_type": "code",
   "execution_count": 96,
   "metadata": {},
   "outputs": [],
   "source": [
    "# train an SVM classifier for the features of the diabetes dataset using a RBF kernel\n",
    "from sklearn.svm import SVC\n",
    "svc_model = SVC(kernel='rbf', C=1, gamma='auto', probability=True)\n",
    "svc_model.fit(df_diabetes_features_train, df_diabetes_target_train.values.ravel())\n",
    "\n",
    "# train a logistic regression model on the diabetes dataset\n",
    "from sklearn.linear_model import LogisticRegression\n",
    "logit_model = LogisticRegression(penalty='l2', fit_intercept=True, solver='liblinear')\n",
    "logit_model.fit(df_diabetes_features_train, df_diabetes_target_train.values.ravel())\n",
    "\n",
    "# train a decision tree based binary classifier.\n",
    "from sklearn.tree import DecisionTreeClassifier\n",
    "\n",
    "dtree_model = DecisionTreeClassifier(max_depth=4)\n",
    "dtree_model.fit(df_diabetes_features_train, df_diabetes_target_train.values.ravel())\n",
    "\n",
    "# use the models to create predictions on the diabetes test set\n",
    "svc_predictions = svc_model.predict(df_diabetes_features_test)\n",
    "logit_predictions = logit_model.predict(df_diabetes_features_test)\n",
    "dtree_predictions = dtree_model.predict(df_diabetes_features_test)"
   ]
  },
  {
   "cell_type": "code",
   "execution_count": 97,
   "metadata": {},
   "outputs": [
    {
     "name": "stdout",
     "output_type": "stream",
     "text": [
      "73.95833333333334 76.5625 75.52083333333334\n"
     ]
    }
   ],
   "source": [
    "# simplistic metric - the percentage of correct predictions\n",
    "svc_correct = svc_predictions == df_diabetes_target_test.values.ravel()\n",
    "svc_correct_percent = np.count_nonzero(svc_correct) / svc_predictions.size * 100\n",
    "\n",
    "logit_correct = logit_predictions == df_diabetes_target_test.values.ravel()\n",
    "logit_correct_percent = np.count_nonzero(logit_correct) / logit_predictions.size * 100\n",
    "\n",
    "dtree_correct = dtree_predictions == df_diabetes_target_test.values.ravel()\n",
    "dtree_correct_percent = np.count_nonzero(dtree_correct) / dtree_predictions.size * 100\n",
    "\n",
    "print (svc_correct_percent, logit_correct_percent, dtree_correct_percent)"
   ]
  },
  {
   "cell_type": "code",
   "execution_count": 98,
   "metadata": {},
   "outputs": [],
   "source": [
    "# compute confusion matrix\n",
    "from sklearn.metrics import confusion_matrix\n",
    "\n",
    "cm_svc = confusion_matrix(df_diabetes_target_test.values.ravel(), svc_predictions)\n",
    "cm_logit = confusion_matrix(df_diabetes_target_test.values.ravel(), logit_predictions)\n",
    "cm_dtree = confusion_matrix(df_diabetes_target_test.values.ravel(), dtree_predictions)\n",
    "\n",
    "# extract true negative , false positive, false negative, true positive.\n",
    "#\n",
    "# the sklearn confusion_matrix() function returns in the following matrix\n",
    "#\n",
    "#       TN     FP\n",
    "#       FN     TP\n",
    "\n",
    "tn_svc, fp_svc, fn_svc, tp_svc = cm_svc.ravel()\n",
    "tn_logit, fp_logit, fn_logit, tp_logit = cm_logit.ravel()\n",
    "tn_dtree, fp_dtree, fn_dtree, tp_dtree = cm_dtree.ravel()\n"
   ]
  },
  {
   "cell_type": "code",
   "execution_count": 99,
   "metadata": {},
   "outputs": [
    {
     "name": "stdout",
     "output_type": "stream",
     "text": [
      "113 8 42 29\n"
     ]
    }
   ],
   "source": [
    "print (tn_svc, fp_svc, fn_svc, tp_svc)"
   ]
  },
  {
   "cell_type": "code",
   "execution_count": 100,
   "metadata": {},
   "outputs": [
    {
     "name": "stdout",
     "output_type": "stream",
     "text": [
      "113 8 37 34\n"
     ]
    }
   ],
   "source": [
    "print (tn_logit, fp_logit, fn_logit, tp_logit)"
   ]
  },
  {
   "cell_type": "code",
   "execution_count": 101,
   "metadata": {},
   "outputs": [
    {
     "name": "stdout",
     "output_type": "stream",
     "text": [
      "103 18 29 42\n"
     ]
    }
   ],
   "source": [
    "print (tn_dtree, fp_dtree, fn_dtree, tp_dtree)"
   ]
  },
  {
   "cell_type": "code",
   "execution_count": 102,
   "metadata": {},
   "outputs": [],
   "source": [
    "# compute accuracy, precision, and recall\n",
    "\n",
    "accuracy_svc = (tp_svc + tn_svc) / (tn_svc + fp_svc + fn_svc + tp_svc)\n",
    "accuracy_logit = (tp_logit + tn_logit) / (tn_logit + fp_logit + fn_logit + tp_logit)\n",
    "accuracy_dtree = (tp_dtree + tn_dtree) / (tn_dtree + fp_dtree + fn_dtree + tp_dtree)\n",
    "\n",
    "precision_svc = tp_svc / (tp_svc + fp_svc)\n",
    "precision_logit = tp_logit / (tp_logit + fp_logit)\n",
    "precision_dtree = tp_dtree / (tp_dtree + fp_dtree)\n",
    "\n",
    "recall_svc = tp_svc / (tp_svc + fn_svc)\n",
    "recall_logit = tp_logit / (tp_svc + fn_logit)\n",
    "recall_dtree = tp_dtree / (tp_dtree + fn_dtree)"
   ]
  },
  {
   "cell_type": "code",
   "execution_count": 103,
   "metadata": {},
   "outputs": [
    {
     "name": "stdout",
     "output_type": "stream",
     "text": [
      "0.7395833333333334 0.765625 0.7552083333333334\n"
     ]
    }
   ],
   "source": [
    "print (accuracy_svc, accuracy_logit, accuracy_dtree)"
   ]
  },
  {
   "cell_type": "code",
   "execution_count": 104,
   "metadata": {},
   "outputs": [
    {
     "name": "stdout",
     "output_type": "stream",
     "text": [
      "0.7837837837837838 0.8095238095238095 0.7\n"
     ]
    }
   ],
   "source": [
    "print (precision_svc, precision_logit, precision_dtree)"
   ]
  },
  {
   "cell_type": "code",
   "execution_count": 105,
   "metadata": {},
   "outputs": [
    {
     "name": "stdout",
     "output_type": "stream",
     "text": [
      "0.4084507042253521 0.5151515151515151 0.5915492957746479\n"
     ]
    }
   ],
   "source": [
    "print (recall_svc, recall_logit, recall_dtree)"
   ]
  },
  {
   "cell_type": "code",
   "execution_count": 106,
   "metadata": {},
   "outputs": [
    {
     "data": {
      "text/plain": [
       "<matplotlib.lines.Line2D at 0x1a2153ee10>"
      ]
     },
     "execution_count": 106,
     "metadata": {},
     "output_type": "execute_result"
    },
    {
     "data": {
      "image/png": "[encoded data removed]",
      "text/plain": [
       "<Figure size 1296x432 with 3 Axes>"
      ]
     },
     "metadata": {
      "needs_background": "light"
     },
     "output_type": "display_data"
    }
   ],
   "source": [
    "# plot ROC curves for the three classifiers.\n",
    "\n",
    "# compute prediction probabilities\n",
    "svc_probabilities = svc_model.predict_proba(df_diabetes_features_test)\n",
    "logit_probabilities = logit_model.predict_proba(df_diabetes_features_test)\n",
    "dtree_probabilities = dtree_model.predict_proba(df_diabetes_features_test)\n",
    "\n",
    "# calculate the FPR and TPR for all thresholds of the SVC model\n",
    "import sklearn.metrics as metrics\n",
    "svc_fpr, svc_tpr, svc_thresholds = metrics.roc_curve(df_diabetes_target_test.values.ravel(), \n",
    "                                                     svc_probabilities[:,1], \n",
    "                                                     pos_label=1, \n",
    "                                                     drop_intermediate=False)\n",
    "\n",
    "# calculate the FPR and TPR for all thresholds of the logistic regression model\n",
    "logit_fpr, logit_tpr, logit_thresholds = metrics.roc_curve(df_diabetes_target_test.values.ravel(), \n",
    "                                                           logit_probabilities[:,1],\n",
    "                                                           pos_label=1, \n",
    "                                                           drop_intermediate=False)\n",
    "\n",
    "# calculate the FPR and TPR for all thresholds of the decision tree model\n",
    "dtree_fpr, dtree_tpr, dtree_thresholds = metrics.roc_curve(df_diabetes_target_test.values.ravel(), \n",
    "                                                           dtree_probabilities[:,1], \n",
    "                                                           pos_label=1,\n",
    "                                                           drop_intermediate=False)\n",
    "\n",
    "\n",
    "\n",
    "# plot ROC curves\n",
    "%matplotlib inline\n",
    "import matplotlib.pyplot as plt\n",
    "\n",
    "fig, axes = plt.subplots(1, 3, figsize=(18,6))\n",
    "\n",
    "axes[0].set_title('ROC curve: SVC model')\n",
    "axes[0].set_xlabel(\"True Positive Rate\")\n",
    "axes[0].set_ylabel(\"False Positive Rate\")\n",
    "axes[0].plot(svc_fpr, svc_tpr)\n",
    "axes[0].axhline(y=0, color='k')\n",
    "axes[0].axvline(x=0, color='k')\n",
    "\n",
    "axes[1].set_title('ROC curve: Logit model')\n",
    "axes[1].set_xlabel(\"True Positive Rate\")\n",
    "axes[1].set_ylabel(\"False Positive Rate\")\n",
    "axes[1].plot(logit_fpr, logit_tpr)\n",
    "axes[1].axhline(y=0, color='k')\n",
    "axes[1].axvline(x=0, color='k')\n",
    "\n",
    "axes[2].set_title('ROC curve: Tree model')\n",
    "axes[2].set_xlabel(\"True Positive Rate\")\n",
    "axes[2].set_ylabel(\"False Positive Rate\")\n",
    "axes[2].plot(dtree_fpr, dtree_tpr)\n",
    "axes[2].axhline(y=0, color='k')\n",
    "axes[2].axvline(x=0, color='k')"
   ]
  },
  {
   "cell_type": "code",
   "execution_count": 107,
   "metadata": {},
   "outputs": [
    {
     "name": "stdout",
     "output_type": "stream",
     "text": [
      "0.845186823419858 0.8467000349202654 0.7846001629612384\n"
     ]
    }
   ],
   "source": [
    "# compute AUC metrics for the three models\n",
    "svc_auc = metrics.auc(svc_fpr, svc_tpr)\n",
    "logit_auc = metrics.auc(logit_fpr, logit_tpr)\n",
    "dtree_auc = metrics.auc(dtree_fpr, dtree_tpr)\n",
    "\n",
    "print (svc_auc, logit_auc, dtree_auc)"
   ]
  },
  {
   "cell_type": "markdown",
   "metadata": {},
   "source": [
    "# Evaluating Multi-class Classification Models."
   ]
  },
  {
   "cell_type": "code",
   "execution_count": 108,
   "metadata": {},
   "outputs": [],
   "source": [
    "# softmax (a.k.a multinomial regression) classifier\n",
    "from sklearn.linear_model import LogisticRegression\n",
    "softmax_logit_model = LogisticRegression(penalty='l2', fit_intercept=True, solver='lbfgs', multi_class='multinomial')\n",
    "softmax_logit_model.fit(df_iris_features_train, df_iris_target_train.values.ravel())\n",
    "\n",
    "# create a decision tree based multi-class classifier.\n",
    "from sklearn.tree import DecisionTreeClassifier\n",
    "mc_dtree_model = DecisionTreeClassifier(max_depth=4)\n",
    "mc_dtree_model.fit(df_iris_features_train, df_iris_target_train.values.ravel())\n",
    "\n",
    "# use the  model to create predictions on the test set\n",
    "softmax_logit_predictions = softmax_logit_model.predict(df_iris_features_test)\n",
    "mc_predictions = mc_dtree_model.predict(df_iris_features_test)\n",
    "\n",
    "# compute confusion matrix\n",
    "from sklearn.metrics import confusion_matrix\n",
    "\n",
    "cm_softmax = confusion_matrix(df_iris_target_test.values.ravel(), softmax_logit_predictions)\n",
    "cm_mc_dtree = confusion_matrix(df_iris_target_test.values.ravel(), mc_predictions)"
   ]
  },
  {
   "cell_type": "code",
   "execution_count": 109,
   "metadata": {},
   "outputs": [
    {
     "name": "stdout",
     "output_type": "stream",
     "text": [
      "[[10  0  0]\n",
      " [ 0 14  1]\n",
      " [ 0  1 12]]\n"
     ]
    }
   ],
   "source": [
    "print(cm_softmax)"
   ]
  },
  {
   "cell_type": "code",
   "execution_count": 110,
   "metadata": {},
   "outputs": [
    {
     "name": "stdout",
     "output_type": "stream",
     "text": [
      "[[10  0  0]\n",
      " [ 0 15  0]\n",
      " [ 0  1 12]]\n"
     ]
    }
   ],
   "source": [
    "print(cm_mc_dtree)"
   ]
  },
  {
   "cell_type": "code",
   "execution_count": 111,
   "metadata": {},
   "outputs": [],
   "source": [
    "# plot confusion matrices as heatmaps\n",
    "%matplotlib inline\n",
    "import matplotlib.pyplot as plt\n",
    "\n",
    "# plot the confusion matrix as a heat map using Matplotlib functions.\n",
    "#\n",
    "# portions of this code have been adapted from \n",
    "# https://scikit-learn.org/stable/auto_examples/model_selection/plot_confusion_matrix.html\n",
    "def plot_confusion_matrix(cmatrix, class_labels, axes, title, cmap):\n",
    "\n",
    "    heatmap_image = axes.imshow(cmatrix, interpolation='nearest', cmap=cmap)\n",
    "    axes.figure.colorbar(heatmap_image, ax=axes)\n",
    "    \n",
    "    num_rows = cmatrix.shape[0]\n",
    "    num_cols = cmatrix.shape[1]\n",
    "    \n",
    "    axes.set_title(title)\n",
    "    axes.set_xlabel('Predicted')\n",
    "    axes.set_ylabel('True')\n",
    "    \n",
    "    axes.set_xticks(np.arange(num_cols))\n",
    "    axes.set_yticks(np.arange(num_rows))\n",
    "    axes.set_xticklabels(class_labels)\n",
    "    axes.set_yticklabels(class_labels)\n",
    "    \n",
    "    # Loop over data dimensions and create text annotations.\n",
    "    #fmt = '.2f' if normalize else 'd'\n",
    "    thresh = cmatrix.max() / 2.\n",
    "    for y in range(num_rows):\n",
    "        for x in range(num_cols):\n",
    "            axes.text(x, y, format(cmatrix[y, x], '.0f'),\n",
    "                    ha=\"center\", va=\"center\",\n",
    "                    color=\"white\" if cmatrix[y, x] > thresh else \"black\")\n"
   ]
  },
  {
   "cell_type": "code",
   "execution_count": 112,
   "metadata": {},
   "outputs": [
    {
     "data": {
      "image/png": "[encoded data removed]",
      "text/plain": [
       "<Figure size 1296x432 with 4 Axes>"
      ]
     },
     "metadata": {
      "needs_background": "light"
     },
     "output_type": "display_data"
    }
   ],
   "source": [
    "fig, axes = plt.subplots(1, 2, figsize=(18,6))\n",
    "\n",
    "plot_confusion_matrix(cm_softmax, \n",
    "                      iris_dataset.target_names, axes[0], \n",
    "                      \"Softmax Regression\", \n",
    "                      plt.cm.Greens)\n",
    "\n",
    "plot_confusion_matrix(cm_mc_dtree, \n",
    "                      iris_dataset.target_names, axes[1], \n",
    "                      \"Decision Tree Regression\", \n",
    "                      plt.cm.Greens)"
   ]
  },
  {
   "cell_type": "markdown",
   "metadata": {},
   "source": [
    "# Grid search for optimal hyperparameters"
   ]
  },
  {
   "cell_type": "code",
   "execution_count": 119,
   "metadata": {},
   "outputs": [
    {
     "data": {
      "text/plain": [
       "GridSearchCV(cv=10, error_score='raise-deprecating',\n",
       "       estimator=DecisionTreeClassifier(class_weight=None, criterion='gini', max_depth=None,\n",
       "            max_features=None, max_leaf_nodes=None,\n",
       "            min_impurity_decrease=0.0, min_impurity_split=None,\n",
       "            min_samples_leaf=1, min_samples_split=2,\n",
       "            min_weight_fraction_leaf=0.0, presort=False, random_state=None,\n",
       "            splitter='best'),\n",
       "       fit_params=None, iid='warn', n_jobs=-1,\n",
       "       param_grid={'criterion': ['gini', 'entropy'], 'splitter': ['best', 'random'], 'max_depth': [2, 3, 4, 5, 6, 7, 8, 9, 10, 11, 12], 'min_samples_split': [2, 3, 4, 5, 6, 7, 8, 9, 10, 11, 12], 'max_features': ['auto', 'sqrt', 'log2'], 'presort': [True, False]},\n",
       "       pre_dispatch='2*n_jobs', refit=True, return_train_score='warn',\n",
       "       scoring='accuracy', verbose=0)"
      ]
     },
     "execution_count": 119,
     "metadata": {},
     "output_type": "execute_result"
    }
   ],
   "source": [
    "# use grid search to find the hyperparameters that result \n",
    "# in the best accuracy score for a decision tree \n",
    "# based classifier on the Iris Flowers dataset\n",
    "from sklearn.model_selection import GridSearchCV\n",
    "from sklearn.tree import DecisionTreeClassifier\n",
    "\n",
    "grid_params = {  \n",
    "    'criterion': ['gini', 'entropy'],\n",
    "    'splitter': ['best', 'random'],\n",
    "    'max_depth': [2, 3, 4, 5, 6, 7, 8, 9, 10, 11, 12],\n",
    "    'min_samples_split': [2, 3, 4, 5, 6, 7, 8, 9, 10, 11, 12],\n",
    "    'max_features': ['auto', 'sqrt', 'log2'],\n",
    "    'presort': [True, False]\n",
    "}\n",
    "\n",
    "grid_search = GridSearchCV(estimator=DecisionTreeClassifier(),  \n",
    "                           param_grid=grid_params, scoring='accuracy',\n",
    "                           cv=10, n_jobs=-1)\n",
    "\n",
    "grid_search.fit(df_iris_features.values, df_iris_target)  "
   ]
  },
  {
   "cell_type": "code",
   "execution_count": 117,
   "metadata": {},
   "outputs": [
    {
     "name": "stdout",
     "output_type": "stream",
     "text": [
      "{'criterion': 'entropy', 'max_depth': 7, 'max_features': 'sqrt', 'min_samples_split': 12, 'presort': False, 'splitter': 'random'}\n"
     ]
    }
   ],
   "source": [
    "best_parameters = grid_search.best_params_  \n",
    "print(best_parameters)  "
   ]
  },
  {
   "cell_type": "code",
   "execution_count": 118,
   "metadata": {},
   "outputs": [
    {
     "name": "stdout",
     "output_type": "stream",
     "text": [
      "0.98\n"
     ]
    }
   ],
   "source": [
    "best_accuracy = grid_search.best_score_  \n",
    "print(best_accuracy)  "
   ]
  },
  {
   "cell_type": "code",
   "execution_count": null,
   "metadata": {},
   "outputs": [],
   "source": []
  }
 ],
 "metadata": {
  "kernelspec": {
   "display_name": "Python (AWS_ML_Book)",
   "language": "python",
   "name": "aws_ml_book"
  },
  "language_info": {
   "codemirror_mode": {
    "name": "ipython",
    "version": 3
   },
   "file_extension": ".py",
   "mimetype": "text/x-python",
   "name": "python",
   "nbconvert_exporter": "python",
   "pygments_lexer": "ipython3",
   "version": "3.6.8"
  }
 },
 "nbformat": 4,
 "nbformat_minor": 2
}
